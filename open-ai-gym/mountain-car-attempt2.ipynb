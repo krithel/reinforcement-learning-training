{
 "cells": [
  {
   "cell_type": "code",
   "execution_count": 1,
   "metadata": {},
   "outputs": [],
   "source": [
    "#######################################################################\n",
    "# Following are some utilities for tile coding from Rich.\n",
    "# To make each file self-contained, I copied them from\n",
    "# http://incompleteideas.net/tiles/tiles3.py-remove\n",
    "# with some naming convention changes\n",
    "#\n",
    "# Tile coding starts\n",
    "from math import floor\n",
    "\n",
    "class IHT:\n",
    "    \"Structure to handle collisions\"\n",
    "    def __init__(self, size_val):\n",
    "        self.size = size_val\n",
    "        self.overfull_count = 0\n",
    "        self.dictionary = {}\n",
    "\n",
    "    def count(self):\n",
    "        return len(self.dictionary)\n",
    "\n",
    "    def full(self):\n",
    "        return len(self.dictionary) >= self.size\n",
    "\n",
    "    def get_index(self, obj, read_only=False):\n",
    "        d = self.dictionary\n",
    "        if obj in d:\n",
    "            return d[obj]\n",
    "        elif read_only:\n",
    "            return None\n",
    "        size = self.size\n",
    "        count = self.count()\n",
    "        if count >= size:\n",
    "            if self.overfull_count == 0: print('IHT full, starting to allow collisions')\n",
    "            self.overfull_count += 1\n",
    "            return hash(obj) % self.size\n",
    "        else:\n",
    "            d[obj] = count\n",
    "            return count\n",
    "\n",
    "def hash_coords(coordinates, m, read_only=False):\n",
    "    if isinstance(m, IHT): return m.get_index(tuple(coordinates), read_only)\n",
    "    if isinstance(m, int): return hash(tuple(coordinates)) % m\n",
    "    if m is None: return coordinates\n",
    "\n",
    "def tiles(iht_or_size, num_tilings, floats, ints=None, read_only=False):\n",
    "    \"\"\"returns num-tilings tile indices corresponding to the floats and ints\"\"\"\n",
    "    if ints is None:\n",
    "        ints = []\n",
    "    qfloats = [floor(f * num_tilings) for f in floats]\n",
    "    tiles = []\n",
    "    for tiling in range(num_tilings):\n",
    "        tilingX2 = tiling * 2\n",
    "        coords = [tiling]\n",
    "        b = tiling\n",
    "        for q in qfloats:\n",
    "            coords.append((q + b) // num_tilings)\n",
    "            b += tilingX2\n",
    "        coords.extend(ints)\n",
    "        tiles.append(hash_coords(coords, iht_or_size, read_only))\n",
    "    return tiles\n",
    "# Tile coding ends\n",
    "#######################################################################\n"
   ]
  },
  {
   "cell_type": "code",
   "execution_count": 2,
   "metadata": {},
   "outputs": [],
   "source": [
    "import numpy as np\n",
    "import gym\n",
    "from operator import mul\n",
    "from tqdm import tqdm\n",
    "\n",
    "POSITION_MIN = -1.2\n",
    "POSITION_MAX = 0.5\n",
    "VELOCITY_MIN = -0.07\n",
    "VELOCITY_MAX = 0.07\n",
    "\n",
    "max_size = 2048\n",
    "\n",
    "iht = IHT(max_size)\n",
    "num_of_tilings = 8\n",
    "\n",
    "position_scale = num_of_tilings / (POSITION_MAX - POSITION_MIN)\n",
    "velocity_scale = num_of_tilings / (VELOCITY_MAX - VELOCITY_MIN)"
   ]
  },
  {
   "cell_type": "code",
   "execution_count": 3,
   "metadata": {},
   "outputs": [],
   "source": [
    "# Tiling\n",
    "import random\n",
    "\n",
    "def get_active_tiles(state, action):\n",
    "    return tiles(iht, num_of_tilings, state, [action])\n",
    "\n",
    "def state_action_value(state, action, weights):\n",
    "    return sum(weights[get_active_tiles(state, action)])\n",
    "\n",
    "def epsilon_greedy(state, actions, weights, epsilon):\n",
    "    if random.random() < epsilon:\n",
    "        return random.choice(actions)\n",
    "    else :\n",
    "        action_values = [(action, state_action_value(state, action, weights)) for action in actions]\n",
    "        max_action_value = None\n",
    "        max_actions = []\n",
    "        for a, v in action_values:\n",
    "            if max_action_value == None or v > max_action_value:\n",
    "                max_action_value = v\n",
    "                max_actions = [a]\n",
    "            elif v == max_action_value:\n",
    "                max_actions.append(a)\n",
    "        return random.choice(max_actions)"
   ]
  },
  {
   "cell_type": "code",
   "execution_count": 4,
   "metadata": {},
   "outputs": [
    {
     "name": "stderr",
     "output_type": "stream",
     "text": [
      "Average reward: -130.100000: 100%|██████████| 10000/10000 [03:12<00:00, 51.99it/s]\n"
     ]
    }
   ],
   "source": [
    "env = gym.make('MountainCar-v0')\n",
    "env._max_episode_steps = 2000\n",
    "\n",
    "EPISODES = 10000\n",
    "NUM_LOGS = 10\n",
    "\n",
    "POLICY = epsilon_greedy\n",
    "\n",
    "ALPHA = 0.5 / num_of_tilings\n",
    "EPSILON = 0\n",
    "GAMMA = 1\n",
    "ACTIONS = [0, 1, 2]\n",
    "\n",
    "\n",
    "\n",
    "weights = np.zeros(max_size)\n",
    "\n",
    "total_reward = 0\n",
    "\n",
    "bar = tqdm(range(EPISODES))\n",
    "last_10_rewards = []\n",
    "\n",
    "for e in bar:\n",
    "    s = env.reset()\n",
    "    a = POLICY(s, ACTIONS, weights, EPSILON)\n",
    "    done = False\n",
    "    episode_reward = 0\n",
    "    step = 0\n",
    "    while not done:\n",
    "#         env.render()\n",
    "        s_prime, r, done, info = env.step(a)\n",
    "#         done = False\n",
    "        if done:\n",
    "            current_value = state_action_value(s, a, weights)\n",
    "            weights[get_active_tiles(s, a)] += ALPHA * (r - current_value)\n",
    "        else:\n",
    "            a_prime = POLICY(s_prime, ACTIONS, weights, EPSILON)\n",
    "            current_value = state_action_value(s, a, weights)\n",
    "            next_value = state_action_value(s_prime, a_prime, weights)\n",
    "            weights[get_active_tiles(s, a)] += ALPHA * (r + GAMMA * next_value - current_value)\n",
    "            s = s_prime\n",
    "            a = a_prime\n",
    "        \n",
    "        episode_reward += r\n",
    "        total_reward += r\n",
    "        step += 1\n",
    "        \n",
    "    if (len(last_10_rewards)) >= 10:\n",
    "        last_10_rewards.pop(0)\n",
    "        \n",
    "    last_10_rewards.append(episode_reward)\n",
    "    bar.set_description(\"Average reward: %f\" % (sum(last_10_rewards) / len(last_10_rewards)))\n"
   ]
  },
  {
   "cell_type": "code",
   "execution_count": 56,
   "metadata": {},
   "outputs": [
    {
     "data": {
      "text/plain": [
       "array([ -93.9461783 , -178.69544956, -154.47866136, ...,    0.        ,\n",
       "          0.        ,    0.        ])"
      ]
     },
     "execution_count": 56,
     "metadata": {},
     "output_type": "execute_result"
    }
   ],
   "source": [
    "weights"
   ]
  },
  {
   "cell_type": "code",
   "execution_count": 9,
   "metadata": {},
   "outputs": [
    {
     "data": {
      "text/plain": [
       "[1, 9]"
      ]
     },
     "execution_count": 9,
     "metadata": {},
     "output_type": "execute_result"
    }
   ],
   "source": [
    "from math import floor\n",
    "\n",
    "def hash_coords(coordinates, m, read_only=False):\n",
    "    if isinstance(m, int): return hash(tuple(coordinates)) % m\n",
    "    if m is None: return coordinates\n",
    "\n",
    "def tiles(iht_or_size, num_tilings, floats, ints=None, read_only=False):\n",
    "    \"\"\"returns num-tilings tile indices corresponding to the floats and ints\"\"\"\n",
    "    if ints is None:\n",
    "        ints = []\n",
    "    qfloats = [floor(f * num_tilings) for f in floats]\n",
    "    tiles = []\n",
    "    for tiling in range(num_tilings):\n",
    "        tilingX2 = tiling * 2\n",
    "        coords = [tiling]\n",
    "        b = tiling\n",
    "        for q in qfloats:\n",
    "            coords.append((q + b) // num_tilings)\n",
    "            b += tilingX2\n",
    "        coords.extend(ints)\n",
    "        tiles.append(hash_coords(coords, iht_or_size, read_only))\n",
    "    return tiles\n",
    "\n",
    "tiles(10, 2, [1.2, 0.02], [1])"
   ]
  },
  {
   "cell_type": "code",
   "execution_count": null,
   "metadata": {},
   "outputs": [],
   "source": []
  }
 ],
 "metadata": {
  "kernelspec": {
   "display_name": "Python 3",
   "language": "python",
   "name": "python3"
  },
  "language_info": {
   "codemirror_mode": {
    "name": "ipython",
    "version": 3
   },
   "file_extension": ".py",
   "mimetype": "text/x-python",
   "name": "python",
   "nbconvert_exporter": "python",
   "pygments_lexer": "ipython3",
   "version": "3.7.3"
  }
 },
 "nbformat": 4,
 "nbformat_minor": 2
}
