{
 "cells": [
  {
   "cell_type": "code",
   "execution_count": 1,
   "metadata": {},
   "outputs": [],
   "source": [
    "import random\n",
    "\n",
    "ROUND_TO = 1\n",
    "\n",
    "class Observation:\n",
    "    \n",
    "    def __init__(self, state):\n",
    "        self.cart_pos = round(state[0], ROUND_TO)\n",
    "        self.cart_velocity = round(state[1], ROUND_TO)\n",
    "        self.pole_pos = round(state[2], ROUND_TO)\n",
    "        self.pole_velocity = round(state[3], ROUND_TO)\n",
    "        \n",
    "    def __repr__(self):\n",
    "        return \"({}, {}, {}, {})\".format(self.cart_pos, self.cart_velocity, self.pole_pos, self.pole_velocity)\n",
    "    \n",
    "    def __hash__(self):\n",
    "        return hash(repr(self))\n",
    "    \n",
    "    def __eq__(self, other):\n",
    "        return (self.cart_pos == other.cart_pos\n",
    "            and self.cart_velocity == other.cart_velocity\n",
    "            and self.pole_pos == other.pole_pos\n",
    "            and self.pole_velocity == other.pole_velocity)\n",
    "            \n",
    "def epsilon_greedy(state, q_values, actions, epsilon):\n",
    "    if random.random() < epsilon:\n",
    "        return random.choice(actions)\n",
    "    \n",
    "    \n",
    "    current_max = None\n",
    "    current_actions = []\n",
    "\n",
    "    for a in actions:\n",
    "        val = q_values.get((state, a), 0)\n",
    "        if current_max == None or val > current_max:\n",
    "            current_max = val\n",
    "            current_actions = [a]\n",
    "        elif val == current_max:\n",
    "            current_actions.append(a)\n",
    "    \n",
    "    return random.choice(current_actions)"
   ]
  },
  {
   "cell_type": "code",
   "execution_count": 2,
   "metadata": {},
   "outputs": [
    {
     "name": "stdout",
     "output_type": "stream",
     "text": [
      "Episode 0 with average reward 42.0\n"
     ]
    }
   ],
   "source": [
    "import gym\n",
    "\n",
    "ACTIONS = [0, 1]\n",
    "OBS_SPACE_BUCKETS = 10\n",
    "\n",
    "Q = {}\n",
    "\n",
    "EPISODES = 1\n",
    "NUM_LOGS = 1\n",
    "ALPHA = 0.5\n",
    "EPSILON = 0.1\n",
    "GAMMA = 1\n",
    "\n",
    "policy = epsilon_greedy\n",
    "environment = gym.make('CartPole-v1')\n",
    "\n",
    "total_reward = 0\n",
    "\n",
    "for i in range(0, EPISODES):\n",
    "\n",
    "    s = Observation(environment.reset())\n",
    "    a = policy(s, Q, ACTIONS, EPSILON)\n",
    "    done = False\n",
    "\n",
    "\n",
    "    while not done:\n",
    "        s_prime, r, done, info = environment.step(a)\n",
    "        s_prime = Observation(s_prime)\n",
    "        a_prime = policy(s_prime, Q, ACTIONS, EPSILON)\n",
    "        \n",
    "        Q[(s, a)] = Q.get((s, a), 0) + ALPHA * (r + GAMMA * Q.get((s_prime, a_prime), 0) - Q.get((s, a), 0))\n",
    "        \n",
    "        s = s_prime\n",
    "        a = a_prime\n",
    "        \n",
    "        total_reward += r\n",
    "    \n",
    "    if i % (EPISODES // NUM_LOGS) == 0:\n",
    "        print(\"Episode {} with average reward {}\".format(i, total_reward / (EPISODES // NUM_LOGS)))\n",
    "        total_reward = 0\n",
    "\n",
    "environment.close()"
   ]
  },
  {
   "cell_type": "code",
   "execution_count": 5,
   "metadata": {},
   "outputs": [
    {
     "name": "stdout",
     "output_type": "stream",
     "text": [
      "34.0\n"
     ]
    }
   ],
   "source": [
    "from gym import wrappers\n",
    "\n",
    "valid_env = gym.make('CartPole-v0')\n",
    "valid_env = wrappers.Monitor(valid_env, \"./gym-results-v2\", force=True)\n",
    "\n",
    "valid_s = Observation(valid_env.reset())\n",
    "valid_a = policy(s, Q, ACTIONS, EPSILON)\n",
    "valid_done = False\n",
    "valid_reward = 0\n",
    "valid_timesteps = 0\n",
    "\n",
    "while not valid_done:\n",
    "#     valid_env.render()\n",
    "    valid_s_prime, valid_r, valid_done, valid_info = valid_env.step(valid_a)\n",
    "    valid_s_prime = Observation(valid_s_prime)\n",
    "    valid_a_prime = policy(valid_s_prime, Q, ACTIONS, EPSILON)\n",
    "\n",
    "#     valid_a_prime = 0 if valid_s_prime.cart_velocity > 0 else 1\n",
    "\n",
    "    valid_s = valid_s_prime\n",
    "    valid_a = valid_a_prime\n",
    "\n",
    "    valid_reward += r\n",
    "    valid_timesteps += 1\n",
    "#     print(valid_a)\n",
    "\n",
    "print(valid_reward)\n",
    "valid_env.close()"
   ]
  },
  {
   "cell_type": "code",
   "execution_count": 7,
   "metadata": {},
   "outputs": [
    {
     "data": {
      "text/html": [
       "\n",
       "    <video width=\"360\" height=\"auto\" alt=\"test\" controls><source src=\"data:video/mp4;base64,AAAAIGZ0eXBpc29tAAACAGlzb21pc28yYXZjMW1wNDEAAAAIZnJlZQAAHhltZGF0AAACrwYF//+r3EXpvebZSLeWLNgg2SPu73gyNjQgLSBjb3JlIDE1MiByMjg1NCBlOWE1OTAzIC0gSC4yNjQvTVBFRy00IEFWQyBjb2RlYyAtIENvcHlsZWZ0IDIwMDMtMjAxNyAtIGh0dHA6Ly93d3cudmlkZW9sYW4ub3JnL3gyNjQuaHRtbCAtIG9wdGlvbnM6IGNhYmFjPTEgcmVmPTMgZGVibG9jaz0xOjA6MCBhbmFseXNlPTB4MzoweDExMyBtZT1oZXggc3VibWU9NyBwc3k9MSBwc3lfcmQ9MS4wMDowLjAwIG1peGVkX3JlZj0xIG1lX3JhbmdlPTE2IGNocm9tYV9tZT0xIHRyZWxsaXM9MSA4eDhkY3Q9MSBjcW09MCBkZWFkem9uZT0yMSwxMSBmYXN0X3Bza2lwPTEgY2hyb21hX3FwX29mZnNldD0tMiB0aHJlYWRzPTEyIGxvb2thaGVhZF90aHJlYWRzPTIgc2xpY2VkX3RocmVhZHM9MCBucj0wIGRlY2ltYXRlPTEgaW50ZXJsYWNlZD0wIGJsdXJheV9jb21wYXQ9MCBjb25zdHJhaW5lZF9pbnRyYT0wIGJmcmFtZXM9MyBiX3B5cmFtaWQ9MiBiX2FkYXB0PTEgYl9iaWFzPTAgZGlyZWN0PTEgd2VpZ2h0Yj0xIG9wZW5fZ29wPTAgd2VpZ2h0cD0yIGtleWludD0yNTAga2V5aW50X21pbj0yNSBzY2VuZWN1dD00MCBpbnRyYV9yZWZyZXNoPTAgcmNfbG9va2FoZWFkPTQwIHJjPWNyZiBtYnRyZWU9MSBjcmY9MjMuMCBxY29tcD0wLjYwIHFwbWluPTAgcXBtYXg9NjkgcXBzdGVwPTQgaXBfcmF0aW89MS40MCBhcT0xOjEuMDAAgAAAA9tliIQAJ//+9bF8CmrJ84oM6DIu4Zckya62IuJtAMAAAAMAAAMAAcL5AAE6e34pneu2bbqAAAADAACTgAFRAAUgACDgASEACNgAXgAEsAA8QAL4ADaAAxQAQgAAAwAAAwAAAwAAAwAAAwAAAwAAAwAAAwAf0HA2KoACw5TDgQjScV2js/sOqHZLnz9I41/M8GM/+Zdc77D3VwhJv3cRXI4kaCFdNy8WpAADKGSLCDeE2eiH06qdReV92RuXJ9Eujomrp4cSleDc4f/pnwUD5uvAdHFZuAToADAxbkUHob6audHnB/o+PoYQ8C5CUcfkmxG6PJ8IZ/5jEYAHRPwFcB5bSzwQaWM3nfV/1gRduRRwjfFDOAA6e5DS/+U4sIouJ+SB7zPsAyMB9Zr08nA+VY9bwguM6gRq8aLAAD0E9krPH3Tm1Lur1qMgfYW2eQlDEw+ymzYauU1LKtauL299VOwAAW1fl9tMmft9BG+Jr8Gd64WcaY7wwa8mwZ8AAGwXhn+8omTO5LeQh2A5DHeMc+jSocLQAAFkDArriIYrCBoa1ead3YDyVdEHQ7uATQAAKUvPNb5wTVktoM+eEKiskzGAnlG7cjUrp3pA9qQ6/qAACamV5QcCura12RQjJBPrbvdbSFPGYVyeDnFMQAAlv6k0IP08mILE8tT+xtIv94bCEuAAEs6juS8+5OTyc753LOgHan2JbzoyTJNnneGNh7qPZjAAAAMBRQABTLzIn/3HYfLp0uPZ7jt50XAPY+GNCQ4/AAADAAUdnKkmLXIX8F716IvvNLUKDX4Tu7CFVpYfNXTXIZWHNRiHtg6R6pS3qv/E0EyAWn5QGOr+/orIwd+anJ3l3I6t4Py19V5YCmkIpWGlGvtjcrYe0PbWcd8FwH+8SRAAAAMAACfwRSiQaOv1xErnblNJgq32aP6qIeN79UbcPo6b/trUrzGcpjHEODP3CB47q9ot86mxVMJ1XJFH4u8mrA25ZRiXtRY0AJ0hxDGVVxzh27K7oBoT4rag/E0d3iZCAAAEvaD4HML+ZyGuPpvu5qk0u67cjkY69YzRm5KQdTDhnqGmng23FvTCx+K4NSafIH0bAAPRS58VT9nU2FQmJmiDUdAXTMtQZr+7dqCKMpG4yaeSfzTnbLr2lbpz2wxL56un7PCoaJQaDZeuMNh9P7CnR9zZ+jwcQjAAAAQM9JJkBCBiLQrdABHgUxApOhon4QR7mevyBj8mrlzIR4u1eUv7bs4MDyjPPAooLqTWiMUAAAMBVAAAAwAAAwAAAwAAAwAAAwAAAwAAAwAAAwAAAwAAAwAAQ8EAAAEeQZokbEJ//fEAAAMAAAMAAAMAABWKvB4PeBMGKgU53AxKlm83AJOEfe4Ef76z0kIuRN1q8bv2xVTvBzobGpMnlxcC2eejHPLRG3M5SFAs00WeWq5AepwCdR+Oh0wyhjlV5ex2bbQHmXVQ3ivb9LzU20KcrmBAIfb1xWh7YW3e9f2X12H9bF8q2GMrPcvfwVqMRDcadFDv0MVVQdBuF0lUXXqnLkqbi3XlLlFqRMhrVW7/61OEwuqgf35ZXJGkNAuN0jgg2gDn4AySN1LarqhTj5SeYHGEv9tevhLO4gDtXsW/w3yjELTV/zT8PvyIG4wCFfMHmm1eibU/NzRGImwaqzKs4hujDLVKOg+e1n4Pg+fjNCrsDPyy64m05XvCQAAAALRBnkJ4hH8AAAMAAAMAAAMAALpvg+AI+QFlYeluH2v8YPerC280/4QSGDEbfIZDuL7GOtJ0JKF0OKMlxSWtxWeOksAHEel9kVDtR5MLYLVs/3GuiTpyAfecP8BfjUAcIIE1M40z8dzbrqZXiI535B/FvKIgkLsM0GWC7R4tCra0KU7zmtGEeu2VF8/NmQheLF9Mu7D63Gg5q2pGWDpKbR4G1do3Ft1n/te4XZQBX1wAAAMAxYEAAABmAZ5hdEf/AAADAAADAAADAAEZ7qARdasC9Cxn7zq0US76lNqE/+pCMfeQ1GVpe9K+K5nRCL2pScbyvAl0l6lFZ8pFtKL7fAwsbehwdQxzyod8AMqDbyRx6qI85ZuMFPLW2pwAAAR8AAAAfAGeY2pH/wAAAwAAAwAAAwABJY5Xb93xa4tQcglvgobZfP0bjBdWf76G+kfxdvKFXHUt5HoHzhfVsJNAbDSNjPvp69z3AR2Tr394RjyaMDqg9zvRLpHAAThn5kJU2CvmdR7M2LU+aCMc1jc7aU62a53D08txTLoAAAMAyoEAAACuQZpoSahBaJlMCE///fEAAAMAAAMAAAMAAAMAdH+SpBHh9pMpfcUdCeGZ5aBlUJVqhYjaac4nDjrvfGd6iWbjpGqpEj70bZ789EtLKT8j+lQG26JfsuopSVzpr2CozuWCRvnYT4eYzvk+Z+3l3CdJdAo39pg1lRExHeTJ84c8h+d5aHtBppPwDM4LLpzFJLbY494q2u7+FdwiFlXzD7MLL4n7wiAiFEiMQvKSsrhxAAAAiUGehkURLCP/AAADAAADAAADAAAabd7ke1KU7EFLeJsiHx2n0A1tQd9iBqbW2pAGgfEYnyXRtSt6A+stRXLIPbNyrlmRfckQ3Gt/aeeIHOB3oZeeC29mTVO+ohRN6R8seIhNh9SDKeAAAAMAAAMALtQocd+PnvupVA95fXO6us7ga7KySAAAAwJfAAAAaQGepXRH/wAAAwAAAwAAAwAAK1McACWPzRGKKFOjBuFr9QVHGNoryfDAcYu4bU+y6KoUXhPDKRG+8MpJx9j1UyLRHr/efGgs3CmFN0ZFXpclaHEA0HFk2YwFCYKjv7R/cI6WAAADAABqQQAAAE4BnqdqR/8AAAMAAAMAAAMAAAZH20EW8uNFYALUS8PPkUZQFkPEmK2bO413qJsfjphU7Fqp2h99coETuTMY03lRJ5gHPuB+ek0ogAAADjgAAADRQZqsSahBbJlMCE///fEAAAMAAAMAAAMAABT6b8ClaF6JSn129TLdtUUi2E5zKUKQrTDrPQAJxBe4J3z2Z7aHHaFFGrsJnkJP1B/ybGOxahJ5SoyJb6DAUhNYSZRdzjnhw+79pAm0ZIekrqzh9E9UyFP7jMn2gXI+Lx0BMvldM7iFzvg6YEkfvam42sHrP+C3B50460O6HZVUZJPbjIXCCtXb1/91OR++5df4W0nPoM8uzKGkmpEQiEk3IdoU/2tQSBqJOKCpBxDwFLj/3CB7aIAAAAB9QZ7KRRUsI/8AAAMAAAMAAAMAABpt3uRBBiiwWwJQTYAhEi7SB9Y6+BvuyZT0KIwTC4mnMgRBXrEeuKEFX7xcZhkYmBJBFzgE0h+A/S+iNh3knwuGpOlNmhPQAAADAAADAAADAKpugLuZMX9ZyqBd1VGXju35+ZgAAAMAb0EAAABXAZ7pdEf/AAADAAADAAADAAADAOha9O5wQBNPSeIRWkfp4aO4G+s3/BNfBUOM7mbp9R7SoRkjl3kILpI4XosqsgDpHrJTlS1gA7ACxyVwpYAAeIAAAAdMAAAAgwGe62pH/wAAAwAAAwAAAwAABkppRABdRK1z3PehxiqyG2gN/TBVVoWqp/8hM8ZFq9I7Xo+nO9Odp5p1DVWTNyzRsTUT5ODtKU7Gq8ZPz4GXhU+ruqJ0VbyqomPFFnW9SioZbSNslqiSL6sgWHF3DgX77CTpsfMLlq5jkb675+AAAEPAAAAAh0Ga8EmoQWyZTAhP//3xAAADAAADAAADAAAVh0rOtVJ3ZwdXOclvVY7Tq29Cecw7SfHhqbsfxPYK2gJq44yzXMwnEgIkbf6mflXbQsLPeZxDYeykFsqgGhlQHPUp3vbcb/WAyXOZ2KfU6O6eE8cKyC0mhHtzFZJYsWSi/oCP0kcOVNSr/ICKSQAAAKVBnw5FFSwj/wAAAwAAAwAAAwAAuhmGPADaRiIHH4na5HwYlF8w/YPij+xOE7QmtHrLnYXn7w/JMOdNra+YKuogXgtc8/DsHkJy4SBfan6uNmzS5JQP3+DP1e7ALuEN2SaJt1zLFvIsP4rNdeqGcyzPzdcSsScLgAAAAwAAAwABynuc/v40VsL7JRXvYPEqk8ISMLh2Q4VptHv8Pa3LTSEAAAMAUEEAAAB5AZ8tdEf/AAADAAADAAADAAElvj3Nf5T9fDX3t6imYAN1y7epVhotH3p7BLiX7qekACNjNLLh89ejV2UHJAPRJHFdmoqN7486EzuqKBAaW60xVBxSR4HZDZMmkeVpNIcNL9XpmNJ4D2F07io2P9yU8sE1kAAAAwD8gQAAAGgBny9qR/8AAAMAAAMAAAMAASY4W5cPGfj35ymnoZ4qb0MAIyLF/TPB6fwcS0ajoeZboMF5CkEa+kriWvPxRZsOytb0t2cyrwNJWO+xJ+X0ZCqkI8GCNG3culoUnH7p9by58sQAAAMBlQAAAI5BmzRJqEFsmUwIV//+OEAAAAMAAAMAAAMACLdE1XAAH13BiZ2osRfV1ACvT0ZSUxrlJOE+RvThLJan14s0yq2rgeqTJlUg2zvkkZw44T8iXoOlxn9ZFQFMuyWL6Aj3CL6RvJiSSSQCrcuJha9CrhpZFGvlkdNwzJKSZwrto6n0bmil8FVw6sllmJgAAEvAAAAAskGfUkUVLCP/AAADAAADAAADAAC6KcpI7ZdL/98gI6HilbHThdqk/yW7B70yUcNGqOJgsrepEbfuk/3GHnBpgm0RlbFXCdcAH3I9mFd8p0s/AXUkZV9hW8+EHkIQqxRoRV3+h3UtW/P3fjW9yghWvxEV9X97MFRNONK5xPzTn2i4DysNMTHTbdr210N4gSWhfAAAAwAAAwAAFouw0qV0QOfYCpVBI+ZMFcovrshYAAADAXcAAAA1AZ9xdEf/AAADAAADAAADAAElTooPMdxIkN9hVPAtAYKQs7luHimyrqQPoAGO6AAAAwAA3oAAAACBAZ9zakf/AAADAAADAAADAAEd7K4R1KBoAks6rnIYs+LRkdsBbzA6cXxpP327h49OW7gXRX1Menu4EEMKZG9rFaON7hs5mZ83gQ/L6bumN8h4AwTluCunW+Prgil+yqj6BldcvHWS1SUvOVx4tltJkcWV6gAfh1e2CcnlvnwAAC2gAAABSEGbd0moQWyZTAhP//3xAAADAAADAAADAAAVjdVUTSjPgBUovEUiyYB0s3+P697sQUDc3NZG/vvwOzml3fYlrfA5GzZ3LWZyrLuplo0XI2bJlXUwyKQMWDmfc6uf6ClOX9vOW3P+P9zKrJ8wITf8AL5oCTaXcPPPltrnR49s+PegQEyeRHowqVhhGKodlzh7bo+NufJ7ppiJ+rFaiHhpIzts1c7Olu3P3q+9JukHvVU+BjnQng00bysWjCG/G4vCUc1ZND3Jg4y23zPZI0C8pw/eRr468xjny4IGImzDwaIBey1/I95lrTcI3ounrxOeVGYYVf11Hqoiw0RY6Y6DcHonxBQptuRzl0rt8nbQHn1dtdIBBB3Atrr4gdN87fzTDaWXn/Z7cM6G4qlSPPkWHtDND/x93d88I+8WJodPd6PToPZJ/HjiQaEAAACSQZ+VRRUsI/8AAAMAAAMAAAMAALpiOJR3dAmv0Tg3MPho1Y+szMytcOTvkurRqgMXZG7P6ei7FMZDtChsF4I3KdeRiyvbqEd7GxqIG5/lR+8esGbbKEO3qsYD7MfG/5RFhngdf9f23Trjguf/Htb7LQAAAwAAAwAAAwOc3CfugtKoGsMr3FeNfVGn91xW4AAAIuAAAABlAZ+2akf/AAADAAADAAADAAEl7Bxj/Rp6qT/6FTJWdRXNk+kBOGPUaLBUmr2N/yP4zjE8JEbiDToHPL5xax2tdd5JtHG64FPoY7SbzCD+7Vvrgup2JGzom33Y43eEUmVwYAAAGpEAAAHQQZu7SahBbJlMCE///fEAAAMAAAMAAAMAABWHcfZcQAHQFJUfJgg87EikNygKo/dTJX9s6gcdgioaIqF6nlAJYsG46y6gG0y4IbVyAGuEAw0urjq916vUDjx3xylzYF+KoEADH3K9JTJq5uZ83LJqvNeryUVQQsseEKqcw5Baen5meTKO06MBfIQmsN0eswvTUDBTwu9wC9MvQSRcLuyOZezzcxWhlW2mcwlAeYEOC6W15cAAVkvwt6gOlRrrlEyZxwtJ8HUonTcYqmToYsGx6MAvE31OMP3sfPR5TnjwMB0X6sB70LyVLoZCj41SmNgSYXXTywq2tuZaFAt3ueEHAOhkQ3dX4+givsDtQXGxhlYJLRr0dZyj6j0+Ms7QwrRss3m+GlRX+8+Xa+bPj+xOMhnCFknloSKEGdto++6ywy2cM9sgNiPe4ogWvIEEa1aTJl6H4d068m/uxQrI3mIIABjFtTOj4StyTCcyYYx3NiBRD6vZu0cfG0AdK4CRflGW2Fof7brBrsxRLYKRyh13RiWpy4GeLiW3PnUwu/MLsgciR8EUexZUrNEhu3D39QY6JanV5fMHX/8rxYYGWW7E9weDG8BYIDLsHUAU4AAABN0AAAEAQZ/ZRRUsI/8AAAMAAAMAAAMAALqBzVsOrcfqoy/ABZFc1XgHRMSSiHzZHEwwYcYy/hzE9F4mRPpOtrrUFuVNQCROJBt72aqoto+6xOEm2gFXABXn64y5Rr2FYq3FGBgW0IDSzH/bPUZpkTL0f7Cor6fit86In+W9jBDz+3STFw7Y2H2QhUSiOyosUwj3vna+jlevcP8+zu9J2lDqeqs9GIqou41PVPs/Wne+NWqgpeMDOAyjJNw9wiaZ1VJ7n8KAAAADAAADAAADAAHF+8hUYPG8aZqihQVvY1UWe+olUDS0sbYIuTXOkdx/P5C827FNHKxaS4NnCIdtAAADAAD2gAAAAKcBn/h0R/8AAAMAAAMAAAMAASW8i4ca7mQH5AlcoXaxDUOY552X5bqkvUy9RehUeFJAC1xH4DxdB75Dony0MIFLJ5rP2IJuWH2GCeNj9tnfupDUTD4aaG1nlN4JkjHBmrPVDjjwA1ve/3Eh7nmKxqanA919GL9N8uO0h3v5ZFDZkx/sNPI80f3dLO/vPibn8ajddzBjjixsHV+lIO1MmlQ13vJEAAAIuQAAAKMBn/pqR/8AAAMAAAMAAAMAASXsOQQAbaadB+x+bkzqN70CCvPB/j2aRxsxDzY7tskx5NTk0y2yzrqXx9axgD/nsbrhkyxV3lLaiCu0QYz2746PPHO7d0cLK0YLQO4f7i8gVlcUYQ5P8UTQSeluzDh72AYhTy/zkjqiail7HNjGqOi7IOIEEHbxEoHSXJE7SgMcDfh38i7BjElKzfnmAAADAFlAAAABckGb/0moQWyZTAhH//3hAAADAAADAAADAAAhuB++ntPqaosJPlpaoAh7nhIH5k/BSovnsHG3pIqTsguwQPvnVZ42idy+hIyF4hRqQKmu11Lzb9JkCfc4jkHDGILLMoqr6kHF3lGTgzFSkKoneqnh6QAcYZTKzidqiK2UraXk5TOEn+kZCJY9M0PItf6MRLwBBhtzj4e1tTWoLWZsftfDVQdB2XK+zGa7EI9ePnvQ5c9RHm+/v+kA33KKHsshZI5wRSYf1FL18LeaB08Ep3x+99dDlvymmBlrj6pF0b+fIK/1f+oN/l8YV9Og8W1HG/HtHXQfQfBptMCLwbPoMsi5whRl5kd6ov3sIxDtw+ze3P8nxkzIjujLk9xosuye+iUQPSXSscEqQ9Nh6uENENIANYf/K/7echK+BdroeGshDMKL5aqtdhAJc6kMczGA6aCOHJab/Ybw512BBTthesRvTTXXbVd9tM+aW5n29poAzfofKR0AAAD2QZ4dRRUsI/8AAAMAAAMAAAMAALnXFM3shrsG82lTvz9OmR0RTGhMoICYrmr68JGVylhVPNo1GKxnyrWIt1zX/lg3ibZcrr0/5cDG+8XRKYLo5pXC/BSBHjQFfU35BXZHZnVW9lXewk/OqpqrXEfnQlBMIPsGAqrGkGYQdt+BxmsI6zwmRxih3h2OevfPmv18OAHC+T1t4EqvpjI4jSQqEnGD4sLMOsMAAAMAAAMAAAMDb12pjlsczbvq3HYAS1j/gfoq0XiN9IheNlKo1j8/m1CbUaalm9IhkSqBysZxQHPnGSHp/JireA9EOwU1zZQquAAAAwO7AAAAgwGePHRH/wAAAwAAAwAAAwABJb0ZCBZuikF0nmFsAaTWKZpWTpX5Qecc6TyYOR3tdzmEXjDF9OJbxpu6czIi/X/kxuDj0SPu9qkluWvKyojLLRnEhJztXYYe7UXOgiRtUIkeSmp85MdgQVHmvXIbOY1WAHLCBvnjHNxcoarJBESAAAGLAAAArQGePmpH/wAAAwAAAwAAAwABJelwXlAnKY/sol4Mo57NN5ESP1Awol0qbxldcHLR/U4oVaozNyMb7lr7aXRStHvLg7yINKqKJ+5N7LHXnvVuE9JDGNGGjmmJt1hFmXjB89UFggnfsX679LlsVPn4SxhznnpFOdbY2YxsxQb/FoXRi0MGXF9xvwtjZa0tSvxAI0ZKMmpLyc6gFFbA9hL2Tc5JFB3XWFzSt2AAAA1IAAAA9kGaIkmoQWyZTAj//IQAAAMAAAMAAAMAAIL2AbIuLxACMBFNIA7/82tllQNoHMQRno6NWrLyC4Nm2TxZVAEg+fcJ/HfiaBbWdcFCphzQq7K++KJeC7+flmeUq5dYk2ma2aF5J5xgmPT4Q8m9sGRRQ6EHBt8Zfcnf0EA6SDC7giXwVV+BcKUJeXGy3+PKmWR/8R2JoVapqZ4aF9VRCFwR4ivDGQ0pTlooUJh1A+wrFvjTuiSAUVZpqNgpSV8O83sF/zhF7nk28rNLUydAbdIECadYJkAiwx375nG9hs078kmwDzkVj0CTI5OZHxY2iMzWw1xFAFD7OQAAAMhBnkBFFSwj/wAAAwAAAwAAAwAAuhBGGowDKIAEZFxkJqlu+D5JaQ4kXlrK0J9bNHr9fwlYgbzbyK9b1LrGuzswJOlDLVKqgaczDhTonAZarr87kuO54zMPfi14ywj2WajWrz7Z7155gfX/0H2y98NIOhs5JoCofIl5z0yaHK6z712HiL5EzuHu6MGgPWZNggAAAwAAAwAAAwAAAwCH/cT3kXzJH4RiZWbIH+CCP0XV7SeEHZPxsl2PIUCHVjIDm/YjzwAAAwAakAAAAHsBnmFqR/8AAAMAAAMAAAMAASX4EncBM/v7QIRLKHHaRGQjvkT0iwhaOP2113PdCqqjmnQWjI6BuYX9z7yQxQkdXaxDpjnZxy50vtJamScYEcn8dI19jRlt2aV4+3jq9P4ABN4P7xjGqONdslP3Djm6Lb2PrOYAAAMAUUEAAASmbW9vdgAAAGxtdmhkAAAAAAAAAAAAAAAAAAAD6AAAArwAAQAAAQAAAAAAAAAAAAAAAAEAAAAAAAAAAAAAAAAAAAABAAAAAAAAAAAAAAAAAABAAAAAAAAAAAAAAAAAAAAAAAAAAAAAAAAAAAAAAAAAAgAAA9B0cmFrAAAAXHRraGQAAAADAAAAAAAAAAAAAAABAAAAAAAAArwAAAAAAAAAAAAAAAAAAAAAAAEAAAAAAAAAAAAAAAAAAAABAAAAAAAAAAAAAAAAAABAAAAABLAAAAMgAAAAAAAkZWR0cwAAABxlbHN0AAAAAAAAAAEAAAK8AAACAAABAAAAAANIbWRpYQAAACBtZGhkAAAAAAAAAAAAAAAAAAAyAAAAIwBVxAAAAAAALWhkbHIAAAAAAAAAAHZpZGUAAAAAAAAAAAAAAABWaWRlb0hhbmRsZXIAAAAC821pbmYAAAAUdm1oZAAAAAEAAAAAAAAAAAAAACRkaW5mAAAAHGRyZWYAAAAAAAAAAQAAAAx1cmwgAAAAAQAAArNzdGJsAAAAl3N0c2QAAAAAAAAAAQAAAIdhdmMxAAAAAAAAAAEAAAAAAAAAAAAAAAAAAAAABLADIABIAAAASAAAAAAAAAABAAAAAAAAAAAAAAAAAAAAAAAAAAAAAAAAAAAAAAAAAAAAGP//AAAAMWF2Y0MBZAAg/+EAGGdkACCs2UBLBloQAAADABAAAAZA8YMZYAEABmjr48siwAAAABhzdHRzAAAAAAAAAAEAAAAjAAABAAAAABRzdHNzAAAAAAAAAAEAAAABAAABGGN0dHMAAAAAAAAAIQAAAAEAAAIAAAAAAQAABQAAAAABAAACAAAAAAEAAAAAAAAAAQAAAQAAAAABAAAFAAAAAAEAAAIAAAAAAQAAAAAAAAABAAABAAAAAAEAAAUAAAAAAQAAAgAAAAABAAAAAAAAAAEAAAEAAAAAAQAABQAAAAABAAACAAAAAAEAAAAAAAAAAQAAAQAAAAABAAAFAAAAAAEAAAIAAAAAAQAAAAAAAAABAAABAAAAAAEAAAQAAAAAAgAAAQAAAAABAAAFAAAAAAEAAAIAAAAAAQAAAAAAAAABAAABAAAAAAEAAAUAAAAAAQAAAgAAAAABAAAAAAAAAAEAAAEAAAAAAQAABAAAAAACAAABAAAAABxzdHNjAAAAAAAAAAEAAAABAAAAIwAAAAEAAACgc3RzegAAAAAAAAAAAAAAIwAABpIAAAEiAAAAuAAAAGoAAACAAAAAsgAAAI0AAABtAAAAUgAAANUAAACBAAAAWwAAAIcAAACLAAAAqQAAAH0AAABsAAAAkgAAALYAAAA5AAAAhQAAAUwAAACWAAAAaQAAAdQAAAEEAAAAqwAAAKcAAAF2AAAA+gAAAIcAAACxAAAA+gAAAMwAAAB/AAAAFHN0Y28AAAAAAAAAAQAAADAAAABidWR0YQAAAFptZXRhAAAAAAAAACFoZGxyAAAAAAAAAABtZGlyYXBwbAAAAAAAAAAAAAAAAC1pbHN0AAAAJal0b28AAAAdZGF0YQAAAAEAAAAATGF2ZjU4LjEyLjEwMA==\" type=\"video/mp4\" /></video>"
      ],
      "text/plain": [
       "<IPython.core.display.HTML object>"
      ]
     },
     "execution_count": 7,
     "metadata": {},
     "output_type": "execute_result"
    }
   ],
   "source": [
    "import io\n",
    "import base64\n",
    "from IPython.display import HTML\n",
    "\n",
    "video = io.open('./gym-results-v2/openaigym.video.%s.video000000.mp4' % valid_env.file_infix, 'r+b').read()\n",
    "encoded = base64.b64encode(video)\n",
    "HTML(data='''\n",
    "    <video width=\"360\" height=\"auto\" alt=\"test\" controls><source src=\"data:video/mp4;base64,{0}\" type=\"video/mp4\" /></video>'''\n",
    ".format(encoded.decode('ascii')))"
   ]
  },
  {
   "cell_type": "code",
   "execution_count": null,
   "metadata": {},
   "outputs": [],
   "source": [
    "Q"
   ]
  },
  {
   "cell_type": "code",
   "execution_count": null,
   "metadata": {},
   "outputs": [],
   "source": []
  }
 ],
 "metadata": {
  "kernelspec": {
   "display_name": "Python 3",
   "language": "python",
   "name": "python3"
  },
  "language_info": {
   "codemirror_mode": {
    "name": "ipython",
    "version": 3
   },
   "file_extension": ".py",
   "mimetype": "text/x-python",
   "name": "python",
   "nbconvert_exporter": "python",
   "pygments_lexer": "ipython3",
   "version": "3.7.3"
  }
 },
 "nbformat": 4,
 "nbformat_minor": 2
}
